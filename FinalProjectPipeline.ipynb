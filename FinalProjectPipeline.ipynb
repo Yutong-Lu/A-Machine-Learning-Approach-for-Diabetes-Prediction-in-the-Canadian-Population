{
 "cells": [
  {
   "cell_type": "code",
   "execution_count": 1,
   "id": "b3b0e219",
   "metadata": {},
   "outputs": [],
   "source": [
    "import pandas as pd\n",
    "import numpy as np\n",
    "import matplotlib.pyplot as plt\n",
    "import seaborn as  sns\n",
    "import plotly.express as px\n",
    "import numpy as np\n",
    "import warnings\n",
    "import matplotlib.pyplot as plt\n",
    "from sklearn.naive_bayes import CategoricalNB, GaussianNB, MultinomialNB\n",
    "from statsmodels.stats.outliers_influence import variance_inflation_factor\n",
    "from sklearn.discriminant_analysis import LinearDiscriminantAnalysis, QuadraticDiscriminantAnalysis\n",
    "from sklearn.metrics import RocCurveDisplay, roc_curve, accuracy_score, confusion_matrix, roc_auc_score, classification_report\n",
    "from sklearn.model_selection import GridSearchCV\n",
    "from sklearn.model_selection import train_test_split\n",
    "from sklearn.preprocessing import StandardScaler, LabelEncoder\n",
    "from category_encoders import OneHotEncoder, TargetEncoder\n",
    "from sklearn.compose import ColumnTransformer\n",
    "from sklearn.linear_model import LinearRegression, LogisticRegression\n",
    "from sklearn.model_selection import KFold\n",
    "from sklearn.metrics import mean_squared_error\n",
    "from sklearn.experimental import enable_iterative_imputer\n",
    "from sklearn.impute import IterativeImputer\n",
    "from sklearn.feature_selection import RFECV\n",
    "from sklearn.model_selection import StratifiedKFold, GridSearchCV\n",
    "from sklearn.ensemble import RandomForestClassifier, GradientBoostingClassifier, HistGradientBoostingClassifier\n",
    "from imblearn.over_sampling import RandomOverSampler\n",
    "from imblearn.pipeline import Pipeline\n",
    "\n",
    "warnings.filterwarnings('ignore')"
   ]
  },
  {
   "cell_type": "code",
   "execution_count": 2,
   "id": "210721e4",
   "metadata": {},
   "outputs": [],
   "source": [
    "data = pd.read_excel('/Users/lorrainelu/Desktop/DLSPH/5230/final project/Diabetes Study File 10K Dec 14 2017.xlsx')"
   ]
  },
  {
   "cell_type": "code",
   "execution_count": 4,
   "id": "e2ed7fd3",
   "metadata": {},
   "outputs": [],
   "source": [
    "# Replace categorical values with numerical equivalents\n",
    "data['DIABETES'].replace({'Yes' : 1, 'No' : 0}, inplace=True)\n",
    "data['Sex'].replace({'Female' : 1, 'Male' : 0}, inplace=True)\n",
    "\n",
    "# Create indicator for using hypertension meds/corticosteroid\n",
    "data['Use_of_Hypertension_Medications'] = data['Hypertension_Medications'].notnull().astype('int')\n",
    "data['Use_of_Corticosteroids'] = data['Corticosteroids'].notnull().astype('int')\n",
    "\n",
    "# Create a subset with no date\n",
    "df = data[['Age_at_Exam', 'sBP', 'BMI', 'LDL', 'HDL', 'A1c', 'TG', 'FBS', 'Total_Cholesterol', 'Depression',\n",
    "     'HTN', 'OA', 'COPD', 'Use_of_Hypertension_Medications', 'Use_of_Corticosteroids', 'Sex', 'DIABETES']]"
   ]
  },
  {
   "cell_type": "code",
   "execution_count": 5,
   "id": "d2a2ce79",
   "metadata": {},
   "outputs": [],
   "source": [
    "X = df.drop(['DIABETES'], axis=1)\n",
    "y = df[['DIABETES']]\n",
    "\n",
    "X_train, X_test, Y_train, Y_test = train_test_split(X, y, test_size=0.2, random_state=42)\n",
    "\n",
    "Y_train = Y_train.to_numpy().ravel()\n",
    "Y_test = Y_test.to_numpy().ravel()"
   ]
  },
  {
   "cell_type": "code",
   "execution_count": 15,
   "id": "387f297a",
   "metadata": {},
   "outputs": [],
   "source": [
    "# MICE imputation\n",
    "imputer = IterativeImputer(max_iter=10, random_state=42)\n",
    "\n",
    "# Initializing the Gradient Boosting Classifier with specified parameters\n",
    "model = HistGradientBoostingClassifier(max_iter = 100, learning_rate=1.0, max_depth=1)\n",
    "\n",
    "# Defining the hyperparameters to be tuned using GridSearchCV\n",
    "param_dist = {\n",
    "    \"max_iter\" : [100, 200],\n",
    "    \"max_depth\" : [1, 3, 5],\n",
    "    \"min_samples_leaf\" : [25, 50],\n",
    "    \"learning_rate\" : [.1,  .2]\n",
    "}\n",
    "\n",
    "# Using StratifiedKFold for cross-validation, ensuring each fold has the same proportion of observations with each target value\n",
    "skf = StratifiedKFold(n_splits=10)\n",
    "\n",
    "# Setting up the GridSearchCV to find the best hyperparameters for the Gradient Boosting model\n",
    "random_search = GridSearchCV(model, param_grid=param_dist, cv=skf)\n",
    "\n",
    "# Creating a Pipeline:\n",
    "# First, the data goes through the specified column transformations (ct)\n",
    "# Then, the transformed data is used to train or predict using the Gradient Boosting model\n",
    "mypip = Pipeline([\n",
    "    ('mice', imputer),\n",
    "    ('hist_boost', random_search) # hyperparameter tuning\n",
    "])"
   ]
  },
  {
   "cell_type": "code",
   "execution_count": 17,
   "id": "36408fd4",
   "metadata": {},
   "outputs": [
    {
     "data": {
      "text/plain": [
       "0.8655"
      ]
     },
     "execution_count": 17,
     "metadata": {},
     "output_type": "execute_result"
    }
   ],
   "source": [
    "# Training the Gradient Boosting model on the training dataset\n",
    "mypip = mypip.fit(X_train, Y_train)\n",
    "\n",
    "# Updating the model's parameters with the best ones found from GridSearchCV\n",
    "model = model.set_params(**random_search.best_params_)\n",
    "\n",
    "# Retraining the model with the best parameters on the training dataset\n",
    "model = model.fit(X_train, Y_train)\n",
    "\n",
    "# Predicting on the training dataset and computing the accuracy\n",
    "Y_pred_training = model.predict(X_train)\n",
    "accuracy_score(Y_train, Y_pred_training)\n",
    "\n",
    "# Predicting on the test dataset and computing the accuracy\n",
    "Y_pred_test = model.predict(X_test)\n",
    "accuracy_score(Y_test, Y_pred_test)"
   ]
  },
  {
   "cell_type": "code",
   "execution_count": 20,
   "id": "f881474b",
   "metadata": {},
   "outputs": [
    {
     "name": "stdout",
     "output_type": "stream",
     "text": [
      "              precision    recall  f1-score   support\n",
      "\n",
      "           0       0.90      0.86      0.88      4070\n",
      "           1       0.86      0.90      0.88      3930\n",
      "\n",
      "    accuracy                           0.88      8000\n",
      "   macro avg       0.88      0.88      0.88      8000\n",
      "weighted avg       0.88      0.88      0.88      8000\n",
      "\n",
      "              precision    recall  f1-score   support\n",
      "\n",
      "           0       0.88      0.85      0.87      1020\n",
      "           1       0.85      0.88      0.87       980\n",
      "\n",
      "    accuracy                           0.87      2000\n",
      "   macro avg       0.87      0.87      0.87      2000\n",
      "weighted avg       0.87      0.87      0.87      2000\n",
      "\n"
     ]
    },
    {
     "data": {
      "image/png": "[encoded data removed]",
      "text/plain": [
       "<Figure size 700x500 with 2 Axes>"
      ]
     },
     "metadata": {},
     "output_type": "display_data"
    }
   ],
   "source": [
    "print(classification_report(Y_pred_training, Y_train))\n",
    "print(classification_report(Y_pred_test, Y_test))\n",
    "\n",
    "# Get unique classes\n",
    "classes = df['DIABETES'].unique()\n",
    "\n",
    "# Plotting the confusion matrix\n",
    "plt.figure(figsize=(7,5))\n",
    "sns.heatmap(confusion_matrix(Y_test, Y_pred_test),\n",
    "            cmap='Purples', annot=True, fmt='g', xticklabels=classes, yticklabels=classes)\n",
    "plt.xlabel('Predicted')\n",
    "plt.ylabel('Actual')\n",
    "plt.title('Confusion Matrix')\n",
    "plt.show()"
   ]
  }
 ],
 "metadata": {
  "kernelspec": {
   "display_name": "Python 3 (ipykernel)",
   "language": "python",
   "name": "python3"
  },
  "language_info": {
   "codemirror_mode": {
    "name": "ipython",
    "version": 3
   },
   "file_extension": ".py",
   "mimetype": "text/x-python",
   "name": "python",
   "nbconvert_exporter": "python",
   "pygments_lexer": "ipython3",
   "version": "3.11.4"
  }
 },
 "nbformat": 4,
 "nbformat_minor": 5
}
