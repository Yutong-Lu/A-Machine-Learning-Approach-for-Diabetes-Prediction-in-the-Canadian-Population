{
 "cells": [
  {
   "cell_type": "code",
   "execution_count": 21,
   "id": "b3b0e219",
   "metadata": {},
   "outputs": [],
   "source": [
    "import pandas as pd\n",
    "import numpy as np\n",
    "import matplotlib.pyplot as plt\n",
    "import seaborn as  sns\n",
    "import plotly.express as px\n",
    "import numpy as np\n",
    "import warnings\n",
    "import matplotlib.pyplot as plt\n",
    "from sklearn.naive_bayes import CategoricalNB, GaussianNB, MultinomialNB\n",
    "from statsmodels.stats.outliers_influence import variance_inflation_factor\n",
    "from sklearn.discriminant_analysis import LinearDiscriminantAnalysis, QuadraticDiscriminantAnalysis\n",
    "from sklearn.metrics import RocCurveDisplay, roc_curve, accuracy_score, confusion_matrix, roc_auc_score, classification_report\n",
    "from sklearn.model_selection import GridSearchCV\n",
    "from sklearn.model_selection import train_test_split\n",
    "from sklearn.preprocessing import StandardScaler, LabelEncoder\n",
    "from category_encoders import OneHotEncoder, TargetEncoder\n",
    "from sklearn.compose import ColumnTransformer\n",
    "from sklearn.linear_model import LinearRegression, LogisticRegression\n",
    "from sklearn.model_selection import KFold\n",
    "from sklearn.metrics import mean_squared_error\n",
    "from sklearn.experimental import enable_iterative_imputer\n",
    "from sklearn.impute import IterativeImputer\n",
    "from sklearn.feature_selection import RFECV\n",
    "from sklearn.model_selection import StratifiedKFold, GridSearchCV\n",
    "from sklearn.ensemble import RandomForestClassifier, GradientBoostingClassifier, HistGradientBoostingClassifier\n",
    "from imblearn.over_sampling import RandomOverSampler\n",
    "from imblearn.pipeline import Pipeline\n",
    "\n",
    "warnings.filterwarnings('ignore')"
   ]
  },
  {
   "cell_type": "code",
   "execution_count": 22,
   "id": "210721e4",
   "metadata": {},
   "outputs": [],
   "source": [
    "data = pd.read_excel('/Users/lorrainelu/Desktop/DLSPH/5230/final project/Diabetes Study File 10K Dec 14 2017.xlsx')"
   ]
  },
  {
   "cell_type": "code",
   "execution_count": 23,
   "id": "c2e809f8",
   "metadata": {},
   "outputs": [],
   "source": [
    "# Replace categorical values with numerical equivalents\n",
    "data['DIABETES'].replace({'Yes' : 1, 'No' : 0}, inplace=True)\n",
    "data['Sex'].replace({'Female' : 1, 'Male' : 0}, inplace=True)\n",
    "\n",
    "# Create indicator for using hypertension meds/corticosteroid\n",
    "data['Use_of_Hypertension_Medications'] = data['Hypertension_Medications'].notnull().astype('int')\n",
    "data['Use_of_Corticosteroids'] = data['Corticosteroids'].notnull().astype('int')\n",
    "\n",
    "# Create a subset with no date\n",
    "df = data[['Age_at_Exam', 'sBP', 'BMI', 'LDL', 'HDL', 'A1c', 'TG', 'FBS', 'Total_Cholesterol', 'Depression',\n",
    "     'HTN', 'OA', 'COPD', 'Use_of_Hypertension_Medications', 'Use_of_Corticosteroids', 'Sex', 'DIABETES']]"
   ]
  },
  {
   "cell_type": "code",
   "execution_count": 24,
   "id": "f84239d9",
   "metadata": {},
   "outputs": [],
   "source": [
    "X = df.drop(['DIABETES'], axis=1)\n",
    "y = df[['DIABETES']]\n",
    "\n",
    "X_train, X_test, Y_train, Y_test = train_test_split(X, y, test_size=0.2, random_state=42)\n",
    "\n",
    "Y_train = Y_train.to_numpy().ravel()\n",
    "Y_test = Y_test.to_numpy().ravel()"
   ]
  },
  {
   "cell_type": "code",
   "execution_count": 30,
   "id": "0596ae08",
   "metadata": {},
   "outputs": [
    {
     "data": {
      "text/html": [
       "<div>\n",
       "<style scoped>\n",
       "    .dataframe tbody tr th:only-of-type {\n",
       "        vertical-align: middle;\n",
       "    }\n",
       "\n",
       "    .dataframe tbody tr th {\n",
       "        vertical-align: top;\n",
       "    }\n",
       "\n",
       "    .dataframe thead th {\n",
       "        text-align: right;\n",
       "    }\n",
       "</style>\n",
       "<table border=\"1\" class=\"dataframe\">\n",
       "  <thead>\n",
       "    <tr style=\"text-align: right;\">\n",
       "      <th></th>\n",
       "      <th>mean_fit_time</th>\n",
       "      <th>std_fit_time</th>\n",
       "      <th>mean_score_time</th>\n",
       "      <th>std_score_time</th>\n",
       "      <th>param_learning_rate</th>\n",
       "      <th>param_max_depth</th>\n",
       "      <th>param_min_samples_leaf</th>\n",
       "      <th>param_n_estimators</th>\n",
       "      <th>params</th>\n",
       "      <th>split0_test_score</th>\n",
       "      <th>...</th>\n",
       "      <th>split3_test_score</th>\n",
       "      <th>split4_test_score</th>\n",
       "      <th>split5_test_score</th>\n",
       "      <th>split6_test_score</th>\n",
       "      <th>split7_test_score</th>\n",
       "      <th>split8_test_score</th>\n",
       "      <th>split9_test_score</th>\n",
       "      <th>mean_test_score</th>\n",
       "      <th>std_test_score</th>\n",
       "      <th>rank_test_score</th>\n",
       "    </tr>\n",
       "  </thead>\n",
       "  <tbody>\n",
       "    <tr>\n",
       "      <th>4</th>\n",
       "      <td>0.890469</td>\n",
       "      <td>0.007994</td>\n",
       "      <td>0.001168</td>\n",
       "      <td>0.000038</td>\n",
       "      <td>0.1</td>\n",
       "      <td>3</td>\n",
       "      <td>25</td>\n",
       "      <td>100</td>\n",
       "      <td>{'learning_rate': 0.1, 'max_depth': 3, 'min_sa...</td>\n",
       "      <td>0.86125</td>\n",
       "      <td>...</td>\n",
       "      <td>0.85375</td>\n",
       "      <td>0.85875</td>\n",
       "      <td>0.85375</td>\n",
       "      <td>0.8725</td>\n",
       "      <td>0.85500</td>\n",
       "      <td>0.87875</td>\n",
       "      <td>0.86125</td>\n",
       "      <td>0.862625</td>\n",
       "      <td>0.007934</td>\n",
       "      <td>1</td>\n",
       "    </tr>\n",
       "    <tr>\n",
       "      <th>7</th>\n",
       "      <td>1.776931</td>\n",
       "      <td>0.017006</td>\n",
       "      <td>0.001848</td>\n",
       "      <td>0.000075</td>\n",
       "      <td>0.1</td>\n",
       "      <td>3</td>\n",
       "      <td>50</td>\n",
       "      <td>200</td>\n",
       "      <td>{'learning_rate': 0.1, 'max_depth': 3, 'min_sa...</td>\n",
       "      <td>0.86250</td>\n",
       "      <td>...</td>\n",
       "      <td>0.85875</td>\n",
       "      <td>0.86000</td>\n",
       "      <td>0.85000</td>\n",
       "      <td>0.8675</td>\n",
       "      <td>0.85375</td>\n",
       "      <td>0.88000</td>\n",
       "      <td>0.86375</td>\n",
       "      <td>0.862625</td>\n",
       "      <td>0.007755</td>\n",
       "      <td>1</td>\n",
       "    </tr>\n",
       "  </tbody>\n",
       "</table>\n",
       "<p>2 rows × 22 columns</p>\n",
       "</div>"
      ],
      "text/plain": [
       "   mean_fit_time  std_fit_time  mean_score_time  std_score_time  \\\n",
       "4       0.890469      0.007994         0.001168        0.000038   \n",
       "7       1.776931      0.017006         0.001848        0.000075   \n",
       "\n",
       "  param_learning_rate param_max_depth param_min_samples_leaf  \\\n",
       "4                 0.1               3                     25   \n",
       "7                 0.1               3                     50   \n",
       "\n",
       "  param_n_estimators                                             params  \\\n",
       "4                100  {'learning_rate': 0.1, 'max_depth': 3, 'min_sa...   \n",
       "7                200  {'learning_rate': 0.1, 'max_depth': 3, 'min_sa...   \n",
       "\n",
       "   split0_test_score  ...  split3_test_score  split4_test_score  \\\n",
       "4            0.86125  ...            0.85375            0.85875   \n",
       "7            0.86250  ...            0.85875            0.86000   \n",
       "\n",
       "   split5_test_score  split6_test_score  split7_test_score  split8_test_score  \\\n",
       "4            0.85375             0.8725            0.85500            0.87875   \n",
       "7            0.85000             0.8675            0.85375            0.88000   \n",
       "\n",
       "   split9_test_score  mean_test_score  std_test_score  rank_test_score  \n",
       "4            0.86125         0.862625        0.007934                1  \n",
       "7            0.86375         0.862625        0.007755                1  \n",
       "\n",
       "[2 rows x 22 columns]"
      ]
     },
     "execution_count": 30,
     "metadata": {},
     "output_type": "execute_result"
    }
   ],
   "source": [
    "# Initializing the XGBoost Classifier with specified parameters\n",
    "random_forest = GradientBoostingClassifier(n_estimators = 100, learning_rate=1.0, max_depth=1)\n",
    "\n",
    "# Creating a Pipeline:\n",
    "# First, the data goes through the specified column transformations (ct)\n",
    "# Then, the transformed data is used to train or predict using the Gradient Boosting model\n",
    "model = Pipeline([\n",
    "    ('mice', imputer),\n",
    "    ('xg_boost', random_forest)\n",
    "])"
   ]
  },
  {
   "cell_type": "code",
   "execution_count": 31,
   "id": "2033f6be",
   "metadata": {},
   "outputs": [],
   "source": [
    "# Defining the hyperparameters to be tuned using GridSearchCV\n",
    "param_dist = {\n",
    "    \"n_estimators\" : [100, 200],\n",
    "    \"max_depth\" : [1, 3, 5],\n",
    "    \"min_samples_leaf\" : [25, 50],\n",
    "    \"learning_rate\" : [.1,  .2]\n",
    "}\n",
    "\n",
    "# Using StratifiedKFold for cross-validation, ensuring each fold has the same proportion of observations with each target value\n",
    "skf = StratifiedKFold(n_splits=10)\n",
    "\n",
    "# Setting up the GridSearchCV to find the best hyperparameters for the Gradient Boosting model\n",
    "random_search = GridSearchCV(model, param_grid=param_dist, cv=skf)\n",
    "\n",
    "# Fitting the GridSearchCV on the training data\n",
    "# GradientBoostingClassifier does not accept missing values encoded as NaN natively. \n",
    "# For supervised learning, you might want to consider sklearn.ensemble.HistGradientBoostingClassifier and Regressor which accept missing values encoded as NaNs natively.\n",
    "random_search.fit(X_train, Y_train)\n",
    "\n",
    "# Storing and displaying the results of the grid search\n",
    "results = pd.DataFrame(random_search.cv_results_)\n",
    "results[results['rank_test_score'] == 1]"
   ]
  },
  {
   "cell_type": "code",
   "execution_count": 32,
   "id": "3906d030",
   "metadata": {},
   "outputs": [
    {
     "data": {
      "text/plain": [
       "0.8635"
      ]
     },
     "execution_count": 32,
     "metadata": {},
     "output_type": "execute_result"
    }
   ],
   "source": [
    "# Updating the model's parameters with the best ones found from GridSearchCV\n",
    "model = model.set_params(**random_search.best_params_)\n",
    "\n",
    "# Predicting on the training dataset and computing the accuracy\n",
    "Y_pred_training = model.predict(X_train)\n",
    "accuracy_score(Y_train, Y_pred_training)\n",
    "\n",
    "# Predicting on the test dataset and computing the accuracy\n",
    "Y_pred_test = model.predict(X_test)\n",
    "accuracy_score(Y_test, Y_pred_test)"
   ]
  },
  {
   "cell_type": "code",
   "execution_count": 33,
   "id": "898871b7",
   "metadata": {},
   "outputs": [
    {
     "name": "stdout",
     "output_type": "stream",
     "text": [
      "              precision    recall  f1-score   support\n",
      "\n",
      "           0       0.90      0.85      0.87      4086\n",
      "           1       0.85      0.90      0.87      3914\n",
      "\n",
      "    accuracy                           0.87      8000\n",
      "   macro avg       0.87      0.87      0.87      8000\n",
      "weighted avg       0.87      0.87      0.87      8000\n",
      "\n",
      "              precision    recall  f1-score   support\n",
      "\n",
      "           0       0.88      0.84      0.86      1026\n",
      "           1       0.84      0.88      0.86       974\n",
      "\n",
      "    accuracy                           0.86      2000\n",
      "   macro avg       0.86      0.86      0.86      2000\n",
      "weighted avg       0.86      0.86      0.86      2000\n",
      "\n"
     ]
    },
    {
     "data": {
      "image/png": "[encoded data removed]",
      "text/plain": [
       "<Figure size 700x500 with 2 Axes>"
      ]
     },
     "metadata": {},
     "output_type": "display_data"
    }
   ],
   "source": [
    "print(classification_report(Y_pred_training, Y_train))\n",
    "print(classification_report(Y_pred_test, Y_test))\n",
    "\n",
    "# Get unique classes\n",
    "classes = df['DIABETES'].unique()\n",
    "\n",
    "# Plotting the confusion matrix\n",
    "plt.figure(figsize=(7,5))\n",
    "sns.heatmap(confusion_matrix(Y_test, Y_pred_test),\n",
    "            cmap='Purples', annot=True, fmt='g', xticklabels=classes, yticklabels=classes)\n",
    "plt.xlabel('Predicted')\n",
    "plt.ylabel('Actual')\n",
    "plt.title('Confusion Matrix')\n",
    "plt.show()"
   ]
  }
 ],
 "metadata": {
  "kernelspec": {
   "display_name": "Python 3 (ipykernel)",
   "language": "python",
   "name": "python3"
  },
  "language_info": {
   "codemirror_mode": {
    "name": "ipython",
    "version": 3
   },
   "file_extension": ".py",
   "mimetype": "text/x-python",
   "name": "python",
   "nbconvert_exporter": "python",
   "pygments_lexer": "ipython3",
   "version": "3.11.4"
  }
 },
 "nbformat": 4,
 "nbformat_minor": 5
}
